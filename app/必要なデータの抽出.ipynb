{
 "cells": [
  {
   "cell_type": "code",
   "execution_count": 1,
   "id": "e3e66d6c",
   "metadata": {},
   "outputs": [],
   "source": [
    "import pandas as pd"
   ]
  },
  {
   "cell_type": "code",
   "execution_count": 2,
   "id": "0107721d",
   "metadata": {},
   "outputs": [],
   "source": [
    "df = pd.read_csv('assets/data.csv')"
   ]
  },
  {
   "cell_type": "code",
   "execution_count": 7,
   "id": "243b6d30",
   "metadata": {},
   "outputs": [
    {
     "data": {
      "text/plain": [
       "'2019/1/17'"
      ]
     },
     "execution_count": 7,
     "metadata": {},
     "output_type": "execute_result"
    }
   ],
   "source": [
    "df['date'][0]"
   ]
  },
  {
   "cell_type": "code",
   "execution_count": 8,
   "id": "0bf90e5e",
   "metadata": {},
   "outputs": [],
   "source": [
    "# date型に変更\n",
    "import datetime"
   ]
  },
  {
   "cell_type": "code",
   "execution_count": 15,
   "id": "2080221e",
   "metadata": {},
   "outputs": [
    {
     "data": {
      "text/plain": [
       "datetime.date(2019, 3, 2)"
      ]
     },
     "execution_count": 15,
     "metadata": {},
     "output_type": "execute_result"
    }
   ],
   "source": [
    "datetime.datetime.strptime(df['date'][44],'%Y/%m/%d').date()"
   ]
  },
  {
   "cell_type": "code",
   "execution_count": 23,
   "id": "ada505e9",
   "metadata": {},
   "outputs": [],
   "source": [
    "dates = []\n",
    "for _date in df['date']:\n",
    "    date = datetime.datetime.strptime(_date,'%Y/%m/%d').date()\n",
    "    dates.append(date)"
   ]
  },
  {
   "cell_type": "code",
   "execution_count": 35,
   "id": "48e1f836",
   "metadata": {},
   "outputs": [],
   "source": [
    "# 受講生の数\n",
    "n_subscribers = df['subscribers'].values"
   ]
  },
  {
   "cell_type": "code",
   "execution_count": 36,
   "id": "640a82e1",
   "metadata": {},
   "outputs": [],
   "source": [
    "n_reviews = df['reviews'].values"
   ]
  },
  {
   "cell_type": "code",
   "execution_count": 37,
   "id": "8538860d",
   "metadata": {},
   "outputs": [],
   "source": [
    "# 受講生の差分\n",
    "diff_subscribers = df['subscribers'].diff().values"
   ]
  },
  {
   "cell_type": "code",
   "execution_count": 38,
   "id": "6160d973",
   "metadata": {},
   "outputs": [],
   "source": [
    "# レビューの差分\n",
    "diff_reviews = df['reviews'].diff().values"
   ]
  },
  {
   "cell_type": "code",
   "execution_count": null,
   "id": "53594130",
   "metadata": {},
   "outputs": [],
   "source": []
  },
  {
   "cell_type": "code",
   "execution_count": null,
   "id": "ab41c3ac",
   "metadata": {},
   "outputs": [],
   "source": []
  },
  {
   "cell_type": "code",
   "execution_count": null,
   "id": "319e03be",
   "metadata": {},
   "outputs": [],
   "source": [
    "df = pd.read_csv('assets/data.csv')\n",
    "\n",
    "df['date'][0]\n",
    "\n",
    "# date型に変更\n",
    "import datetime\n",
    "\n",
    "datetime.datetime.strptime(df['date'][44],'%Y/%m/%d').date()\n",
    "\n",
    "dates = []\n",
    "for _date in df['date']:\n",
    "    date = datetime.datetime.strptime(_date,'%Y/%m/%d').date()\n",
    "    dates.append(date)\n",
    "\n",
    "# 受講生の数\n",
    "n_subscribers = df['subscribers'].values\n",
    "\n",
    "n_reviews = df['reviews'].values\n",
    "\n",
    "# 受講生の差分\n",
    "diff_subscribers = df['subscribers'].diff().values\n",
    "\n",
    "# レビューの差分\n",
    "diff_reviews = df['reviews'].diff().values"
   ]
  },
  {
   "cell_type": "code",
   "execution_count": null,
   "id": "a76d044e",
   "metadata": {},
   "outputs": [],
   "source": []
  },
  {
   "cell_type": "code",
   "execution_count": null,
   "id": "ece85f70",
   "metadata": {},
   "outputs": [],
   "source": []
  },
  {
   "cell_type": "code",
   "execution_count": null,
   "id": "65e65254",
   "metadata": {},
   "outputs": [],
   "source": []
  },
  {
   "cell_type": "code",
   "execution_count": null,
   "id": "3b590754",
   "metadata": {},
   "outputs": [],
   "source": []
  },
  {
   "cell_type": "code",
   "execution_count": null,
   "id": "cab10635",
   "metadata": {},
   "outputs": [],
   "source": []
  },
  {
   "cell_type": "code",
   "execution_count": null,
   "id": "b98fd229",
   "metadata": {},
   "outputs": [],
   "source": []
  },
  {
   "cell_type": "code",
   "execution_count": null,
   "id": "98da7cc5",
   "metadata": {},
   "outputs": [],
   "source": []
  },
  {
   "cell_type": "code",
   "execution_count": null,
   "id": "7c9ee6f4",
   "metadata": {},
   "outputs": [],
   "source": []
  },
  {
   "cell_type": "code",
   "execution_count": null,
   "id": "c91fc720",
   "metadata": {},
   "outputs": [],
   "source": []
  },
  {
   "cell_type": "code",
   "execution_count": null,
   "id": "ab1f0204",
   "metadata": {},
   "outputs": [],
   "source": []
  },
  {
   "cell_type": "code",
   "execution_count": null,
   "id": "973aeee0",
   "metadata": {},
   "outputs": [],
   "source": []
  },
  {
   "cell_type": "code",
   "execution_count": null,
   "id": "276b6258",
   "metadata": {},
   "outputs": [],
   "source": []
  },
  {
   "cell_type": "code",
   "execution_count": null,
   "id": "02ae19d7",
   "metadata": {},
   "outputs": [],
   "source": []
  },
  {
   "cell_type": "code",
   "execution_count": null,
   "id": "3e69b208",
   "metadata": {},
   "outputs": [],
   "source": []
  },
  {
   "cell_type": "code",
   "execution_count": null,
   "id": "1f0a7bf1",
   "metadata": {},
   "outputs": [],
   "source": []
  },
  {
   "cell_type": "code",
   "execution_count": null,
   "id": "bb8ac7f6",
   "metadata": {},
   "outputs": [],
   "source": []
  },
  {
   "cell_type": "code",
   "execution_count": null,
   "id": "174580a0",
   "metadata": {},
   "outputs": [],
   "source": []
  },
  {
   "cell_type": "code",
   "execution_count": null,
   "id": "dfcd3136",
   "metadata": {},
   "outputs": [],
   "source": []
  },
  {
   "cell_type": "code",
   "execution_count": null,
   "id": "6056d688",
   "metadata": {},
   "outputs": [],
   "source": []
  },
  {
   "cell_type": "code",
   "execution_count": null,
   "id": "9d516d93",
   "metadata": {},
   "outputs": [],
   "source": []
  },
  {
   "cell_type": "code",
   "execution_count": null,
   "id": "321e1149",
   "metadata": {},
   "outputs": [],
   "source": []
  }
 ],
 "metadata": {
  "kernelspec": {
   "display_name": "Python 3",
   "language": "python",
   "name": "python3"
  },
  "language_info": {
   "codemirror_mode": {
    "name": "ipython",
    "version": 3
   },
   "file_extension": ".py",
   "mimetype": "text/x-python",
   "name": "python",
   "nbconvert_exporter": "python",
   "pygments_lexer": "ipython3",
   "version": "3.8.8"
  }
 },
 "nbformat": 4,
 "nbformat_minor": 5
}
