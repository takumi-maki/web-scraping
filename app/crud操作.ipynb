{
 "cells": [
  {
   "cell_type": "code",
   "execution_count": 2,
   "id": "98eefe43",
   "metadata": {},
   "outputs": [],
   "source": [
    "from assets.database import db_session\n",
    "from assets.database import init_db\n",
    "from assets.models import Data\n",
    "\n",
    "import datetime"
   ]
  },
  {
   "cell_type": "code",
   "execution_count": 3,
   "id": "446e76ac",
   "metadata": {},
   "outputs": [
    {
     "name": "stdout",
     "output_type": "stream",
     "text": [
      "2021-06-24 15:06:46,766 INFO sqlalchemy.engine.Engine BEGIN (implicit)\n",
      "2021-06-24 15:06:46,769 INFO sqlalchemy.engine.Engine PRAGMA main.table_info(\"data\")\n",
      "2021-06-24 15:06:46,770 INFO sqlalchemy.engine.Engine [raw sql] ()\n",
      "2021-06-24 15:06:46,772 INFO sqlalchemy.engine.Engine PRAGMA temp.table_info(\"data\")\n",
      "2021-06-24 15:06:46,773 INFO sqlalchemy.engine.Engine [raw sql] ()\n",
      "2021-06-24 15:06:46,774 INFO sqlalchemy.engine.Engine \n",
      "CREATE TABLE data (\n",
      "\tid INTEGER NOT NULL, \n",
      "\tdate DATE, \n",
      "\tsubscribers INTEGER, \n",
      "\treviews INTEGER, \n",
      "\ttimestamp DATETIME, \n",
      "\tPRIMARY KEY (id)\n",
      ")\n",
      "\n",
      "\n",
      "2021-06-24 15:06:46,775 INFO sqlalchemy.engine.Engine [no key 0.00092s] ()\n",
      "2021-06-24 15:06:46,778 INFO sqlalchemy.engine.Engine COMMIT\n"
     ]
    }
   ],
   "source": [
    "init_db()"
   ]
  },
  {
   "cell_type": "markdown",
   "id": "ebd8574b",
   "metadata": {},
   "source": [
    "## Create"
   ]
  },
  {
   "cell_type": "code",
   "execution_count": 5,
   "id": "cf5f9364",
   "metadata": {},
   "outputs": [
    {
     "data": {
      "text/plain": [
       "datetime.date(2021, 6, 24)"
      ]
     },
     "execution_count": 5,
     "metadata": {},
     "output_type": "execute_result"
    }
   ],
   "source": [
    "date = datetime.date.today()\n",
    "date"
   ]
  },
  {
   "cell_type": "code",
   "execution_count": 6,
   "id": "a62cae1e",
   "metadata": {},
   "outputs": [],
   "source": [
    "row = Data(date=date, subscribers=3500, reviews=200)"
   ]
  },
  {
   "cell_type": "code",
   "execution_count": 9,
   "id": "8ebfd5e6",
   "metadata": {},
   "outputs": [
    {
     "data": {
      "text/plain": [
       "200"
      ]
     },
     "execution_count": 9,
     "metadata": {},
     "output_type": "execute_result"
    }
   ],
   "source": [
    "row.reviews"
   ]
  },
  {
   "cell_type": "code",
   "execution_count": 10,
   "id": "797324c8",
   "metadata": {},
   "outputs": [],
   "source": [
    "db_session.add(row)"
   ]
  },
  {
   "cell_type": "code",
   "execution_count": 11,
   "id": "252d81c2",
   "metadata": {},
   "outputs": [
    {
     "name": "stdout",
     "output_type": "stream",
     "text": [
      "2021-06-24 15:13:42,094 INFO sqlalchemy.engine.Engine BEGIN (implicit)\n",
      "2021-06-24 15:13:42,097 INFO sqlalchemy.engine.Engine INSERT INTO data (date, subscribers, reviews, timestamp) VALUES (?, ?, ?, ?)\n",
      "2021-06-24 15:13:42,097 INFO sqlalchemy.engine.Engine [generated in 0.00105s] ('2021-06-24', 3500, 200, '2021-06-24 15:06:25.245042')\n",
      "2021-06-24 15:13:42,099 INFO sqlalchemy.engine.Engine COMMIT\n"
     ]
    }
   ],
   "source": [
    "db_session.commit()"
   ]
  },
  {
   "cell_type": "code",
   "execution_count": 13,
   "id": "5385c3c5",
   "metadata": {},
   "outputs": [],
   "source": [
    "row1 = Data(date=date, subscribers=6500, reviews=210)\n",
    "row2 = Data(date=date, subscribers=1500, reviews=220)"
   ]
  },
  {
   "cell_type": "code",
   "execution_count": 14,
   "id": "df537985",
   "metadata": {},
   "outputs": [],
   "source": [
    "db_session.add(row1)\n",
    "db_session.add(row2)"
   ]
  },
  {
   "cell_type": "code",
   "execution_count": 15,
   "id": "8409c4c8",
   "metadata": {},
   "outputs": [
    {
     "name": "stdout",
     "output_type": "stream",
     "text": [
      "2021-06-24 15:15:37,512 INFO sqlalchemy.engine.Engine BEGIN (implicit)\n",
      "2021-06-24 15:15:37,513 INFO sqlalchemy.engine.Engine INSERT INTO data (date, subscribers, reviews, timestamp) VALUES (?, ?, ?, ?)\n",
      "2021-06-24 15:15:37,515 INFO sqlalchemy.engine.Engine [cached since 115.4s ago] ('2021-06-24', 6500, 210, '2021-06-24 15:06:25.245042')\n",
      "2021-06-24 15:15:37,517 INFO sqlalchemy.engine.Engine INSERT INTO data (date, subscribers, reviews, timestamp) VALUES (?, ?, ?, ?)\n",
      "2021-06-24 15:15:37,518 INFO sqlalchemy.engine.Engine [cached since 115.4s ago] ('2021-06-24', 1500, 220, '2021-06-24 15:06:25.245042')\n",
      "2021-06-24 15:15:37,519 INFO sqlalchemy.engine.Engine COMMIT\n"
     ]
    }
   ],
   "source": [
    "db_session.commit()"
   ]
  },
  {
   "cell_type": "markdown",
   "id": "d8a7370a",
   "metadata": {},
   "source": [
    "## Read"
   ]
  },
  {
   "cell_type": "code",
   "execution_count": 18,
   "id": "cdbe3419",
   "metadata": {},
   "outputs": [
    {
     "name": "stdout",
     "output_type": "stream",
     "text": [
      "2021-06-24 15:16:40,244 INFO sqlalchemy.engine.Engine BEGIN (implicit)\n",
      "2021-06-24 15:16:40,247 INFO sqlalchemy.engine.Engine SELECT data.id AS data_id, data.date AS data_date, data.subscribers AS data_subscribers, data.reviews AS data_reviews, data.timestamp AS data_timestamp \n",
      "FROM data\n",
      "2021-06-24 15:16:40,248 INFO sqlalchemy.engine.Engine [generated in 0.00146s] ()\n"
     ]
    },
    {
     "data": {
      "text/plain": [
       "[<assets.models.Data at 0x7fb6a8fd50d0>,\n",
       " <assets.models.Data at 0x7fb6a8fd5730>,\n",
       " <assets.models.Data at 0x7fb6a8fd56d0>]"
      ]
     },
     "execution_count": 18,
     "metadata": {},
     "output_type": "execute_result"
    }
   ],
   "source": [
    "db_session.query(Data).all()"
   ]
  },
  {
   "cell_type": "code",
   "execution_count": 23,
   "id": "4d8f326b",
   "metadata": {},
   "outputs": [
    {
     "name": "stdout",
     "output_type": "stream",
     "text": [
      "2021-06-24 15:17:33,419 INFO sqlalchemy.engine.Engine SELECT data.id AS data_id, data.date AS data_date, data.subscribers AS data_subscribers, data.reviews AS data_reviews, data.timestamp AS data_timestamp \n",
      "FROM data\n",
      "2021-06-24 15:17:33,421 INFO sqlalchemy.engine.Engine [cached since 53.16s ago] ()\n"
     ]
    },
    {
     "data": {
      "text/plain": [
       "1500"
      ]
     },
     "execution_count": 23,
     "metadata": {},
     "output_type": "execute_result"
    }
   ],
   "source": [
    "db_session.query(Data).all()[2].subscribers"
   ]
  },
  {
   "cell_type": "code",
   "execution_count": 24,
   "id": "d99ff919",
   "metadata": {},
   "outputs": [
    {
     "name": "stdout",
     "output_type": "stream",
     "text": [
      "2021-06-24 15:18:05,007 INFO sqlalchemy.engine.Engine SELECT data.id AS data_id, data.date AS data_date, data.subscribers AS data_subscribers, data.reviews AS data_reviews, data.timestamp AS data_timestamp \n",
      "FROM data\n",
      "2021-06-24 15:18:05,008 INFO sqlalchemy.engine.Engine [cached since 84.74s ago] ()\n"
     ]
    },
    {
     "data": {
      "text/plain": [
       "<assets.models.Data at 0x7fb6a8fd56d0>"
      ]
     },
     "execution_count": 24,
     "metadata": {},
     "output_type": "execute_result"
    }
   ],
   "source": [
    "db_session.query(Data).all()[-1]"
   ]
  },
  {
   "cell_type": "markdown",
   "id": "39f6e2d7",
   "metadata": {},
   "source": [
    "## Update"
   ]
  },
  {
   "cell_type": "code",
   "execution_count": 25,
   "id": "82e937b1",
   "metadata": {},
   "outputs": [
    {
     "name": "stdout",
     "output_type": "stream",
     "text": [
      "2021-06-24 15:18:47,525 INFO sqlalchemy.engine.Engine SELECT data.id AS data_id, data.date AS data_date, data.subscribers AS data_subscribers, data.reviews AS data_reviews, data.timestamp AS data_timestamp \n",
      "FROM data\n",
      "2021-06-24 15:18:47,526 INFO sqlalchemy.engine.Engine [cached since 127.3s ago] ()\n"
     ]
    },
    {
     "data": {
      "text/plain": [
       "<assets.models.Data at 0x7fb6a8fd50d0>"
      ]
     },
     "execution_count": 25,
     "metadata": {},
     "output_type": "execute_result"
    }
   ],
   "source": [
    "datum = db_session.query(Data).all()[0]\n",
    "datum"
   ]
  },
  {
   "cell_type": "code",
   "execution_count": 27,
   "id": "584161fd",
   "metadata": {},
   "outputs": [],
   "source": [
    "datum.subscribers = 10000"
   ]
  },
  {
   "cell_type": "code",
   "execution_count": 28,
   "id": "b26e5675",
   "metadata": {},
   "outputs": [
    {
     "name": "stdout",
     "output_type": "stream",
     "text": [
      "2021-06-24 15:19:42,671 INFO sqlalchemy.engine.Engine BEGIN (implicit)\n",
      "2021-06-24 15:19:42,676 INFO sqlalchemy.engine.Engine SELECT data.id AS data_id, data.date AS data_date, data.reviews AS data_reviews, data.timestamp AS data_timestamp \n",
      "FROM data \n",
      "WHERE data.id = ?\n",
      "2021-06-24 15:19:42,677 INFO sqlalchemy.engine.Engine [generated in 0.00136s] (1,)\n",
      "2021-06-24 15:19:42,680 INFO sqlalchemy.engine.Engine UPDATE data SET subscribers=? WHERE data.id = ?\n",
      "2021-06-24 15:19:42,681 INFO sqlalchemy.engine.Engine [generated in 0.00122s] (10000, 1)\n",
      "2021-06-24 15:19:42,684 INFO sqlalchemy.engine.Engine COMMIT\n"
     ]
    }
   ],
   "source": [
    "db_session.add(datum)\n",
    "db_session.commit()"
   ]
  },
  {
   "cell_type": "markdown",
   "id": "e61de029",
   "metadata": {},
   "source": [
    "## Delete"
   ]
  },
  {
   "cell_type": "code",
   "execution_count": 29,
   "id": "ef5bd29a",
   "metadata": {},
   "outputs": [
    {
     "name": "stdout",
     "output_type": "stream",
     "text": [
      "2021-06-24 15:20:31,990 INFO sqlalchemy.engine.Engine BEGIN (implicit)\n",
      "2021-06-24 15:20:31,993 INFO sqlalchemy.engine.Engine SELECT data.id AS data_id, data.date AS data_date, data.subscribers AS data_subscribers, data.reviews AS data_reviews, data.timestamp AS data_timestamp \n",
      "FROM data \n",
      "WHERE data.subscribers = ?\n",
      "2021-06-24 15:20:31,994 INFO sqlalchemy.engine.Engine [generated in 0.00142s] (10000,)\n"
     ]
    },
    {
     "data": {
      "text/plain": [
       "<assets.models.Data at 0x7fb6a8fd50d0>"
      ]
     },
     "execution_count": 29,
     "metadata": {},
     "output_type": "execute_result"
    }
   ],
   "source": [
    "db_session.query(Data).filter_by(subscribers=10000).one()"
   ]
  },
  {
   "cell_type": "code",
   "execution_count": 31,
   "id": "655ab324",
   "metadata": {},
   "outputs": [
    {
     "name": "stdout",
     "output_type": "stream",
     "text": [
      "2021-06-24 15:25:21,997 INFO sqlalchemy.engine.Engine DELETE FROM data WHERE data.id = ?\n",
      "2021-06-24 15:25:21,999 INFO sqlalchemy.engine.Engine [generated in 0.00138s] (1,)\n",
      "2021-06-24 15:25:22,000 INFO sqlalchemy.engine.Engine COMMIT\n"
     ]
    }
   ],
   "source": [
    "db_session.delete(datum)\n",
    "db_session.commit()"
   ]
  },
  {
   "cell_type": "code",
   "execution_count": 34,
   "id": "96a22510",
   "metadata": {},
   "outputs": [
    {
     "name": "stdout",
     "output_type": "stream",
     "text": [
      "2021-06-24 15:26:34,192 INFO sqlalchemy.engine.Engine SELECT data.id AS data_id, data.date AS data_date, data.subscribers AS data_subscribers, data.reviews AS data_reviews, data.timestamp AS data_timestamp \n",
      "FROM data\n",
      "2021-06-24 15:26:34,194 INFO sqlalchemy.engine.Engine [cached since 593.9s ago] ()\n"
     ]
    },
    {
     "data": {
      "text/plain": [
       "2"
      ]
     },
     "execution_count": 34,
     "metadata": {},
     "output_type": "execute_result"
    }
   ],
   "source": [
    "len(db_session.query(Data).all())"
   ]
  },
  {
   "cell_type": "code",
   "execution_count": 35,
   "id": "c3f0756b",
   "metadata": {},
   "outputs": [
    {
     "name": "stdout",
     "output_type": "stream",
     "text": [
      "2021-06-24 15:26:51,745 INFO sqlalchemy.engine.Engine DELETE FROM data\n",
      "2021-06-24 15:26:51,747 INFO sqlalchemy.engine.Engine [generated in 0.00146s] ()\n"
     ]
    },
    {
     "data": {
      "text/plain": [
       "2"
      ]
     },
     "execution_count": 35,
     "metadata": {},
     "output_type": "execute_result"
    }
   ],
   "source": [
    "Data.query.delete()"
   ]
  },
  {
   "cell_type": "code",
   "execution_count": null,
   "id": "f66b6de9",
   "metadata": {},
   "outputs": [],
   "source": []
  },
  {
   "cell_type": "code",
   "execution_count": null,
   "id": "85549758",
   "metadata": {},
   "outputs": [],
   "source": []
  },
  {
   "cell_type": "code",
   "execution_count": null,
   "id": "fd33bd68",
   "metadata": {},
   "outputs": [],
   "source": []
  },
  {
   "cell_type": "code",
   "execution_count": null,
   "id": "be597708",
   "metadata": {},
   "outputs": [],
   "source": []
  },
  {
   "cell_type": "code",
   "execution_count": null,
   "id": "e76a3150",
   "metadata": {},
   "outputs": [],
   "source": []
  },
  {
   "cell_type": "code",
   "execution_count": null,
   "id": "1d2a8dd4",
   "metadata": {},
   "outputs": [],
   "source": []
  },
  {
   "cell_type": "code",
   "execution_count": null,
   "id": "8dbc98a8",
   "metadata": {},
   "outputs": [],
   "source": []
  },
  {
   "cell_type": "code",
   "execution_count": null,
   "id": "dd71c5ff",
   "metadata": {},
   "outputs": [],
   "source": []
  },
  {
   "cell_type": "code",
   "execution_count": null,
   "id": "78e55e25",
   "metadata": {},
   "outputs": [],
   "source": []
  },
  {
   "cell_type": "code",
   "execution_count": null,
   "id": "712ced91",
   "metadata": {},
   "outputs": [],
   "source": []
  },
  {
   "cell_type": "code",
   "execution_count": null,
   "id": "d1153f3e",
   "metadata": {},
   "outputs": [],
   "source": []
  },
  {
   "cell_type": "code",
   "execution_count": null,
   "id": "c5371965",
   "metadata": {},
   "outputs": [],
   "source": []
  }
 ],
 "metadata": {
  "kernelspec": {
   "display_name": "Python 3",
   "language": "python",
   "name": "python3"
  },
  "language_info": {
   "codemirror_mode": {
    "name": "ipython",
    "version": 3
   },
   "file_extension": ".py",
   "mimetype": "text/x-python",
   "name": "python",
   "nbconvert_exporter": "python",
   "pygments_lexer": "ipython3",
   "version": "3.8.8"
  }
 },
 "nbformat": 4,
 "nbformat_minor": 5
}
