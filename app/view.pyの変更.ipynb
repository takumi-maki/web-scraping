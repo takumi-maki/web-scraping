{
 "cells": [
  {
   "cell_type": "code",
   "execution_count": 1,
   "id": "2c21f8d2",
   "metadata": {},
   "outputs": [],
   "source": [
    "from assets.database import db_session\n",
    "from assets.models import Data\n",
    "import pandas as pd"
   ]
  },
  {
   "cell_type": "code",
   "execution_count": 6,
   "id": "7af3b2b8",
   "metadata": {},
   "outputs": [
    {
     "name": "stdout",
     "output_type": "stream",
     "text": [
      "2021-06-24 17:08:41,067 INFO sqlalchemy.engine.Engine SELECT data.date AS data_date, data.subscribers AS data_subscribers, data.reviews AS data_reviews \n",
      "FROM data\n",
      "2021-06-24 17:08:41,069 INFO sqlalchemy.engine.Engine [cached since 26.05s ago] ()\n"
     ]
    }
   ],
   "source": [
    "data = db_session.query(Data.date, Data.subscribers, Data.reviews).all()"
   ]
  },
  {
   "cell_type": "code",
   "execution_count": 9,
   "id": "3984f699",
   "metadata": {},
   "outputs": [
    {
     "data": {
      "text/plain": [
       "2671"
      ]
     },
     "execution_count": 9,
     "metadata": {},
     "output_type": "execute_result"
    }
   ],
   "source": [
    "data[0].date\n",
    "data[0].subscribers"
   ]
  },
  {
   "cell_type": "code",
   "execution_count": 15,
   "id": "2919ad78",
   "metadata": {},
   "outputs": [],
   "source": [
    "dates = []\n",
    "subscribers = []\n",
    "reviews = []\n",
    "\n",
    "for datum in data:\n",
    "    dates.append(datum.date)\n",
    "    subscribers.append(datum.subscribers)\n",
    "    reviews.append(datum.reviews)"
   ]
  },
  {
   "cell_type": "code",
   "execution_count": 19,
   "id": "7c498151",
   "metadata": {},
   "outputs": [],
   "source": [
    "diff_subscribers = pd.Series(subscribers).diff().values"
   ]
  },
  {
   "cell_type": "code",
   "execution_count": 20,
   "id": "addeb17c",
   "metadata": {},
   "outputs": [],
   "source": [
    "diff_reviews = pd.Series(reviews).diff().values"
   ]
  },
  {
   "cell_type": "code",
   "execution_count": 21,
   "id": "c51def2e",
   "metadata": {},
   "outputs": [
    {
     "name": "stdout",
     "output_type": "stream",
     "text": [
      "2021-06-24 17:14:01,241 INFO sqlalchemy.engine.Engine SELECT data.date AS data_date, data.subscribers AS data_subscribers, data.reviews AS data_reviews \n",
      "FROM data\n",
      "2021-06-24 17:14:01,242 INFO sqlalchemy.engine.Engine [cached since 346.2s ago] ()\n"
     ]
    }
   ],
   "source": [
    "\n",
    "data = db_session.query(Data.date, Data.subscribers, Data.reviews).all()\n",
    "dates = []\n",
    "subscribers = []\n",
    "reviews = []\n",
    "\n",
    "for datum in data:\n",
    "    dates.append(datum.date)\n",
    "    subscribers.append(datum.subscribers)\n",
    "    reviews.append(datum.reviews)\n",
    "\n",
    "diff_subscribers = pd.Series(subscribers).diff().values\n",
    "diff_reviews = pd.Series(reviews).diff().values"
   ]
  },
  {
   "cell_type": "code",
   "execution_count": null,
   "id": "e612f553",
   "metadata": {},
   "outputs": [],
   "source": []
  },
  {
   "cell_type": "code",
   "execution_count": null,
   "id": "0ada2eb9",
   "metadata": {},
   "outputs": [],
   "source": []
  },
  {
   "cell_type": "code",
   "execution_count": null,
   "id": "91a8ec97",
   "metadata": {},
   "outputs": [],
   "source": []
  },
  {
   "cell_type": "code",
   "execution_count": null,
   "id": "8dc077ec",
   "metadata": {},
   "outputs": [],
   "source": []
  },
  {
   "cell_type": "code",
   "execution_count": null,
   "id": "3423a11b",
   "metadata": {},
   "outputs": [],
   "source": []
  },
  {
   "cell_type": "code",
   "execution_count": null,
   "id": "8af66468",
   "metadata": {},
   "outputs": [],
   "source": []
  },
  {
   "cell_type": "code",
   "execution_count": null,
   "id": "b3d58049",
   "metadata": {},
   "outputs": [],
   "source": []
  },
  {
   "cell_type": "code",
   "execution_count": null,
   "id": "ce9bf4d8",
   "metadata": {},
   "outputs": [],
   "source": []
  },
  {
   "cell_type": "code",
   "execution_count": null,
   "id": "ddbd082f",
   "metadata": {},
   "outputs": [],
   "source": []
  },
  {
   "cell_type": "code",
   "execution_count": null,
   "id": "3338be38",
   "metadata": {},
   "outputs": [],
   "source": []
  },
  {
   "cell_type": "code",
   "execution_count": null,
   "id": "f19dce0e",
   "metadata": {},
   "outputs": [],
   "source": []
  },
  {
   "cell_type": "code",
   "execution_count": null,
   "id": "e2e1ace8",
   "metadata": {},
   "outputs": [],
   "source": []
  },
  {
   "cell_type": "code",
   "execution_count": null,
   "id": "6dbacd07",
   "metadata": {},
   "outputs": [],
   "source": []
  },
  {
   "cell_type": "code",
   "execution_count": null,
   "id": "f24614a2",
   "metadata": {},
   "outputs": [],
   "source": []
  },
  {
   "cell_type": "code",
   "execution_count": null,
   "id": "beee3607",
   "metadata": {},
   "outputs": [],
   "source": []
  },
  {
   "cell_type": "code",
   "execution_count": null,
   "id": "80c73d53",
   "metadata": {},
   "outputs": [],
   "source": []
  },
  {
   "cell_type": "code",
   "execution_count": null,
   "id": "aee94eea",
   "metadata": {},
   "outputs": [],
   "source": []
  },
  {
   "cell_type": "code",
   "execution_count": null,
   "id": "19cc349b",
   "metadata": {},
   "outputs": [],
   "source": []
  },
  {
   "cell_type": "code",
   "execution_count": null,
   "id": "38b78dff",
   "metadata": {},
   "outputs": [],
   "source": []
  },
  {
   "cell_type": "code",
   "execution_count": null,
   "id": "7ff8339c",
   "metadata": {},
   "outputs": [],
   "source": []
  }
 ],
 "metadata": {
  "kernelspec": {
   "display_name": "Python 3",
   "language": "python",
   "name": "python3"
  },
  "language_info": {
   "codemirror_mode": {
    "name": "ipython",
    "version": 3
   },
   "file_extension": ".py",
   "mimetype": "text/x-python",
   "name": "python",
   "nbconvert_exporter": "python",
   "pygments_lexer": "ipython3",
   "version": "3.8.8"
  }
 },
 "nbformat": 4,
 "nbformat_minor": 5
}
