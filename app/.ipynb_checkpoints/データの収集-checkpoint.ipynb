{
 "cells": [
  {
   "cell_type": "code",
   "execution_count": 1,
   "id": "a4571db4",
   "metadata": {},
   "outputs": [],
   "source": [
    "from bs4 import BeautifulSoup\n",
    "import requests"
   ]
  },
  {
   "cell_type": "code",
   "execution_count": 2,
   "id": "1a9d88e7",
   "metadata": {},
   "outputs": [],
   "source": [
    "url = 'https://scraping-for-beginner.herokuapp.com/udemy'"
   ]
  },
  {
   "cell_type": "code",
   "execution_count": 5,
   "id": "1f60f5ed",
   "metadata": {},
   "outputs": [],
   "source": [
    "r = requests.get(url)"
   ]
  },
  {
   "cell_type": "code",
   "execution_count": 7,
   "id": "044c2064",
   "metadata": {},
   "outputs": [],
   "source": [
    "soup = BeautifulSoup(r.text, 'html.parser')"
   ]
  },
  {
   "cell_type": "code",
   "execution_count": 9,
   "id": "f837bdab",
   "metadata": {},
   "outputs": [],
   "source": [
    "# soup"
   ]
  },
  {
   "cell_type": "code",
   "execution_count": 17,
   "id": "8bee85cc",
   "metadata": {},
   "outputs": [
    {
     "data": {
      "text/plain": [
       "'今西 航平'"
      ]
     },
     "execution_count": 17,
     "metadata": {},
     "output_type": "execute_result"
    }
   ],
   "source": [
    "# 名前を取得\n",
    "name = soup.select('.card-title')[0].string\n",
    "name"
   ]
  },
  {
   "cell_type": "code",
   "execution_count": 32,
   "id": "8e67719d",
   "metadata": {},
   "outputs": [
    {
     "data": {
      "text/plain": [
       "12187"
      ]
     },
     "execution_count": 32,
     "metadata": {},
     "output_type": "execute_result"
    }
   ],
   "source": [
    "# 受講者数\n",
    "n_subscribers = soup.select('.subscribers')[0].string\n",
    "n_subscribers = int(n_subscribers.split('：')[1])\n",
    "n_subscribers"
   ]
  },
  {
   "cell_type": "code",
   "execution_count": 33,
   "id": "05857a6c",
   "metadata": {},
   "outputs": [
    {
     "data": {
      "text/plain": [
       "2131"
      ]
     },
     "execution_count": 33,
     "metadata": {},
     "output_type": "execute_result"
    }
   ],
   "source": [
    "# レビュー数\n",
    "n_reviews = soup.select('.reviews')[0].string\n",
    "n_reviews = int(n_reviews.split('：')[1])\n",
    "n_reviews"
   ]
  },
  {
   "cell_type": "code",
   "execution_count": 49,
   "id": "9ac99dc1",
   "metadata": {},
   "outputs": [],
   "source": [
    "results = {\n",
    "    'name': name,\n",
    "    'n_subscribers': n_subscribers,\n",
    "    'n_reviews': n_reviews\n",
    "}\n"
   ]
  },
  {
   "cell_type": "code",
   "execution_count": 35,
   "id": "5253c352",
   "metadata": {},
   "outputs": [
    {
     "data": {
      "text/plain": [
       "{'name': '今西 航平', 'n_subscriber': 12187, 'n_reviews': 2131}"
      ]
     },
     "execution_count": 35,
     "metadata": {},
     "output_type": "execute_result"
    }
   ],
   "source": [
    "resluts"
   ]
  },
  {
   "cell_type": "code",
   "execution_count": 36,
   "id": "cc64d6dd",
   "metadata": {},
   "outputs": [],
   "source": [
    "import pandas as pd"
   ]
  },
  {
   "cell_type": "code",
   "execution_count": 37,
   "id": "faf7e1a9",
   "metadata": {},
   "outputs": [],
   "source": [
    "df = pd.read_csv('assets/data.csv')"
   ]
  },
  {
   "cell_type": "code",
   "execution_count": 38,
   "id": "5cd16255",
   "metadata": {},
   "outputs": [
    {
     "data": {
      "text/html": [
       "<div>\n",
       "<style scoped>\n",
       "    .dataframe tbody tr th:only-of-type {\n",
       "        vertical-align: middle;\n",
       "    }\n",
       "\n",
       "    .dataframe tbody tr th {\n",
       "        vertical-align: top;\n",
       "    }\n",
       "\n",
       "    .dataframe thead th {\n",
       "        text-align: right;\n",
       "    }\n",
       "</style>\n",
       "<table border=\"1\" class=\"dataframe\">\n",
       "  <thead>\n",
       "    <tr style=\"text-align: right;\">\n",
       "      <th></th>\n",
       "      <th>date</th>\n",
       "      <th>subscribers</th>\n",
       "      <th>reviews</th>\n",
       "    </tr>\n",
       "  </thead>\n",
       "  <tbody>\n",
       "    <tr>\n",
       "      <th>751</th>\n",
       "      <td>2021/2/5</td>\n",
       "      <td>10753</td>\n",
       "      <td>1820</td>\n",
       "    </tr>\n",
       "    <tr>\n",
       "      <th>752</th>\n",
       "      <td>2021/2/6</td>\n",
       "      <td>10753</td>\n",
       "      <td>1824</td>\n",
       "    </tr>\n",
       "    <tr>\n",
       "      <th>753</th>\n",
       "      <td>2021/2/7</td>\n",
       "      <td>10756</td>\n",
       "      <td>1824</td>\n",
       "    </tr>\n",
       "    <tr>\n",
       "      <th>754</th>\n",
       "      <td>2021/2/8</td>\n",
       "      <td>10776</td>\n",
       "      <td>1826</td>\n",
       "    </tr>\n",
       "    <tr>\n",
       "      <th>755</th>\n",
       "      <td>2021/2/9</td>\n",
       "      <td>10796</td>\n",
       "      <td>1831</td>\n",
       "    </tr>\n",
       "  </tbody>\n",
       "</table>\n",
       "</div>"
      ],
      "text/plain": [
       "         date  subscribers  reviews\n",
       "751  2021/2/5        10753     1820\n",
       "752  2021/2/6        10753     1824\n",
       "753  2021/2/7        10756     1824\n",
       "754  2021/2/8        10776     1826\n",
       "755  2021/2/9        10796     1831"
      ]
     },
     "execution_count": 38,
     "metadata": {},
     "output_type": "execute_result"
    }
   ],
   "source": [
    "df.tail()"
   ]
  },
  {
   "cell_type": "code",
   "execution_count": 40,
   "id": "1a579768",
   "metadata": {},
   "outputs": [],
   "source": [
    "import datetime"
   ]
  },
  {
   "cell_type": "code",
   "execution_count": 43,
   "id": "68b33ee7",
   "metadata": {},
   "outputs": [
    {
     "data": {
      "text/plain": [
       "'20216/22'"
      ]
     },
     "execution_count": 43,
     "metadata": {},
     "output_type": "execute_result"
    }
   ],
   "source": [
    "date = datetime.datetime.today().strftime('%Y%-m/%-d')\n",
    "date"
   ]
  },
  {
   "cell_type": "code",
   "execution_count": 50,
   "id": "205ee541",
   "metadata": {},
   "outputs": [],
   "source": [
    "subscribers = results['n_subscribers']\n",
    "reviews = results['n_reviews']"
   ]
  },
  {
   "cell_type": "code",
   "execution_count": 51,
   "id": "24f17475",
   "metadata": {},
   "outputs": [
    {
     "data": {
      "text/plain": [
       "12187"
      ]
     },
     "execution_count": 51,
     "metadata": {},
     "output_type": "execute_result"
    }
   ],
   "source": [
    "subscribers"
   ]
  },
  {
   "cell_type": "code",
   "execution_count": 52,
   "id": "4a572657",
   "metadata": {},
   "outputs": [
    {
     "data": {
      "text/plain": [
       "2131"
      ]
     },
     "execution_count": 52,
     "metadata": {},
     "output_type": "execute_result"
    }
   ],
   "source": [
    "reviews"
   ]
  },
  {
   "cell_type": "code",
   "execution_count": 54,
   "id": "0cdd14d2",
   "metadata": {},
   "outputs": [
    {
     "data": {
      "text/html": [
       "<div>\n",
       "<style scoped>\n",
       "    .dataframe tbody tr th:only-of-type {\n",
       "        vertical-align: middle;\n",
       "    }\n",
       "\n",
       "    .dataframe tbody tr th {\n",
       "        vertical-align: top;\n",
       "    }\n",
       "\n",
       "    .dataframe thead th {\n",
       "        text-align: right;\n",
       "    }\n",
       "</style>\n",
       "<table border=\"1\" class=\"dataframe\">\n",
       "  <thead>\n",
       "    <tr style=\"text-align: right;\">\n",
       "      <th></th>\n",
       "      <th>date</th>\n",
       "      <th>subscribers</th>\n",
       "      <th>reviews</th>\n",
       "    </tr>\n",
       "  </thead>\n",
       "  <tbody>\n",
       "    <tr>\n",
       "      <th>0</th>\n",
       "      <td>20216/22</td>\n",
       "      <td>12187</td>\n",
       "      <td>2131</td>\n",
       "    </tr>\n",
       "  </tbody>\n",
       "</table>\n",
       "</div>"
      ],
      "text/plain": [
       "       date  subscribers  reviews\n",
       "0  20216/22        12187     2131"
      ]
     },
     "execution_count": 54,
     "metadata": {},
     "output_type": "execute_result"
    }
   ],
   "source": [
    "results = pd.DataFrame([[date, subscribers, reviews]], columns=['date', 'subscribers', 'reviews'])\n",
    "results"
   ]
  },
  {
   "cell_type": "code",
   "execution_count": 56,
   "id": "2a28c11b",
   "metadata": {},
   "outputs": [
    {
     "data": {
      "text/html": [
       "<div>\n",
       "<style scoped>\n",
       "    .dataframe tbody tr th:only-of-type {\n",
       "        vertical-align: middle;\n",
       "    }\n",
       "\n",
       "    .dataframe tbody tr th {\n",
       "        vertical-align: top;\n",
       "    }\n",
       "\n",
       "    .dataframe thead th {\n",
       "        text-align: right;\n",
       "    }\n",
       "</style>\n",
       "<table border=\"1\" class=\"dataframe\">\n",
       "  <thead>\n",
       "    <tr style=\"text-align: right;\">\n",
       "      <th></th>\n",
       "      <th>date</th>\n",
       "      <th>subscribers</th>\n",
       "      <th>reviews</th>\n",
       "    </tr>\n",
       "  </thead>\n",
       "  <tbody>\n",
       "    <tr>\n",
       "      <th>752</th>\n",
       "      <td>2021/2/6</td>\n",
       "      <td>10753</td>\n",
       "      <td>1824</td>\n",
       "    </tr>\n",
       "    <tr>\n",
       "      <th>753</th>\n",
       "      <td>2021/2/7</td>\n",
       "      <td>10756</td>\n",
       "      <td>1824</td>\n",
       "    </tr>\n",
       "    <tr>\n",
       "      <th>754</th>\n",
       "      <td>2021/2/8</td>\n",
       "      <td>10776</td>\n",
       "      <td>1826</td>\n",
       "    </tr>\n",
       "    <tr>\n",
       "      <th>755</th>\n",
       "      <td>2021/2/9</td>\n",
       "      <td>10796</td>\n",
       "      <td>1831</td>\n",
       "    </tr>\n",
       "    <tr>\n",
       "      <th>0</th>\n",
       "      <td>20216/22</td>\n",
       "      <td>12187</td>\n",
       "      <td>2131</td>\n",
       "    </tr>\n",
       "  </tbody>\n",
       "</table>\n",
       "</div>"
      ],
      "text/plain": [
       "         date  subscribers  reviews\n",
       "752  2021/2/6        10753     1824\n",
       "753  2021/2/7        10756     1824\n",
       "754  2021/2/8        10776     1826\n",
       "755  2021/2/9        10796     1831\n",
       "0    20216/22        12187     2131"
      ]
     },
     "execution_count": 56,
     "metadata": {},
     "output_type": "execute_result"
    }
   ],
   "source": [
    "df = pd.concat([df, results])\n",
    "df.tail()"
   ]
  },
  {
   "cell_type": "code",
   "execution_count": 57,
   "id": "e99b4b1e",
   "metadata": {},
   "outputs": [],
   "source": [
    "df.to_csv('assets/data.csv', index=False)"
   ]
  },
  {
   "cell_type": "code",
   "execution_count": null,
   "id": "0d303b1d",
   "metadata": {},
   "outputs": [],
   "source": [
    "#関数を作成　udemyから情報を取ってくる関数('get_udemy_info')\n",
    "#CSVに書き込む関数('write_data')"
   ]
  },
  {
   "cell_type": "code",
   "execution_count": null,
   "id": "89248c0b",
   "metadata": {},
   "outputs": [],
   "source": []
  },
  {
   "cell_type": "code",
   "execution_count": 60,
   "id": "9afb3be6",
   "metadata": {},
   "outputs": [],
   "source": [
    "def get_udemy_info():\n",
    "    url = 'https://scraping-for-beginner.herokuapp.com/udemy'\n",
    "\n",
    "    r = requests.get(url)\n",
    "\n",
    "    soup = BeautifulSoup(r.text, 'html.parser')\n",
    "\n",
    "    # 名前を取得\n",
    "    name = soup.select('.card-title')[0].string\n",
    "\n",
    "    # 受講者数\n",
    "    n_subscribers = soup.select('.subscribers')[0].string\n",
    "    n_subscribers = int(n_subscribers.split('：')[1])\n",
    "\n",
    "    # レビュー数\n",
    "    n_reviews = soup.select('.reviews')[0].string\n",
    "    n_reviews = int(n_reviews.split('：')[1])\n",
    "\n",
    "    results = {\n",
    "        'name': name,\n",
    "        'n_subscribers': n_subscribers,\n",
    "        'n_reviews': n_reviews\n",
    "    }\n",
    "    return  results"
   ]
  },
  {
   "cell_type": "code",
   "execution_count": 61,
   "id": "ac56d1d8",
   "metadata": {},
   "outputs": [],
   "source": [
    "def write_data():\n",
    "    df = pd.read_csv('assets/data.csv')\n",
    "\n",
    "    _results = get_udemy_info()\n",
    "\n",
    "    # 今日の日付、受講者数、レビュー数を取得\n",
    "    date = datetime.datetime.today().strftime('%Y%-m/%-d')\n",
    "    subscribers = _results['n_subscribers']\n",
    "    reviews = _results['n_reviews']\n",
    "\n",
    "    results = pd.DataFrame([[date, subscribers, reviews]], columns=['date', 'subscribers', 'reviews'])\n",
    "\n",
    "    df = pd.concat([df, results])\n",
    "\n",
    "    df.to_csv('assets/data.csv', index=False)"
   ]
  },
  {
   "cell_type": "code",
   "execution_count": null,
   "id": "26087475",
   "metadata": {},
   "outputs": [],
   "source": []
  },
  {
   "cell_type": "code",
   "execution_count": null,
   "id": "8ae3d9e8",
   "metadata": {},
   "outputs": [],
   "source": []
  },
  {
   "cell_type": "code",
   "execution_count": null,
   "id": "33adf032",
   "metadata": {},
   "outputs": [],
   "source": []
  },
  {
   "cell_type": "code",
   "execution_count": null,
   "id": "9bacf1bb",
   "metadata": {},
   "outputs": [],
   "source": []
  },
  {
   "cell_type": "code",
   "execution_count": null,
   "id": "5e824232",
   "metadata": {},
   "outputs": [],
   "source": []
  },
  {
   "cell_type": "code",
   "execution_count": null,
   "id": "654ffeb4",
   "metadata": {},
   "outputs": [],
   "source": []
  },
  {
   "cell_type": "code",
   "execution_count": null,
   "id": "fb20c235",
   "metadata": {},
   "outputs": [],
   "source": []
  }
 ],
 "metadata": {
  "kernelspec": {
   "display_name": "Python 3",
   "language": "python",
   "name": "python3"
  },
  "language_info": {
   "codemirror_mode": {
    "name": "ipython",
    "version": 3
   },
   "file_extension": ".py",
   "mimetype": "text/x-python",
   "name": "python",
   "nbconvert_exporter": "python",
   "pygments_lexer": "ipython3",
   "version": "3.8.8"
  }
 },
 "nbformat": 4,
 "nbformat_minor": 5
}
